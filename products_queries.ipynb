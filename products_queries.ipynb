{
 "cells": [
  {
   "cell_type": "markdown",
   "id": "f4a5dbce",
   "metadata": {},
   "source": [
    "# Products Queries"
   ]
  },
  {
   "cell_type": "code",
   "execution_count": 21,
   "id": "ed58461c",
   "metadata": {},
   "outputs": [
    {
     "name": "stdout",
     "output_type": "stream",
     "text": [
      "env: GOOGLE_APPLICATION_CREDENTIALS=./google-cloud-key.json\n"
     ]
    }
   ],
   "source": [
    "#\n",
    "# As variáveis de ambiente e globais abaixo precisam ser configuradas\n",
    "# antes de rodar o notebook.\n",
    "#\n",
    "\n",
    "# Caminho para a chave do service account do GCP\n",
    "# Veja: https://cloud.google.com/bigquery/docs/quickstarts/quickstart-client-libraries\n",
    "%env GOOGLE_APPLICATION_CREDENTIALS=./google-cloud-key.json"
   ]
  },
  {
   "cell_type": "code",
   "execution_count": 33,
   "id": "e94b89c4",
   "metadata": {},
   "outputs": [],
   "source": [
    "import json\n",
    "import os\n",
    "from pprint import pprint\n",
    "\n",
    "with open(os.getenv('GOOGLE_APPLICATION_CREDENTIALS')) as json_data:\n",
    "    google_cloud_key = json.loads(json_data.read())\n",
    "    json_data.close()\n",
    "\n",
    "project_id = google_cloud_key['project_id']"
   ]
  },
  {
   "cell_type": "code",
   "execution_count": 34,
   "id": "c168c931",
   "metadata": {},
   "outputs": [
    {
     "name": "stdout",
     "output_type": "stream",
     "text": [
      "Requirement already satisfied: pandas in ./venv/lib/python3.9/site-packages (2.0.1)\n",
      "Requirement already satisfied: tzdata>=2022.1 in ./venv/lib/python3.9/site-packages (from pandas) (2023.3)\n",
      "Requirement already satisfied: python-dateutil>=2.8.2 in ./venv/lib/python3.9/site-packages (from pandas) (2.8.2)\n",
      "Requirement already satisfied: pytz>=2020.1 in ./venv/lib/python3.9/site-packages (from pandas) (2023.3)\n",
      "Requirement already satisfied: numpy>=1.20.3 in ./venv/lib/python3.9/site-packages (from pandas) (1.24.3)\n",
      "Requirement already satisfied: six>=1.5 in ./venv/lib/python3.9/site-packages (from python-dateutil>=2.8.2->pandas) (1.16.0)\n",
      "\u001b[33mWARNING: You are using pip version 21.2.4; however, version 23.1.2 is available.\n",
      "You should consider upgrading via the '/Users/grelinhodediamante/Projects/karhub/venv/bin/python3 -m pip install --upgrade pip' command.\u001b[0m\n",
      "Requirement already satisfied: google-cloud-bigquery[bqstorage,pandas] in ./venv/lib/python3.9/site-packages (3.10.0)\n",
      "Requirement already satisfied: python-dateutil<3.0dev,>=2.7.2 in ./venv/lib/python3.9/site-packages (from google-cloud-bigquery[bqstorage,pandas]) (2.8.2)\n",
      "Requirement already satisfied: proto-plus<2.0.0dev,>=1.15.0 in ./venv/lib/python3.9/site-packages (from google-cloud-bigquery[bqstorage,pandas]) (1.22.2)\n",
      "Requirement already satisfied: grpcio<2.0dev,>=1.47.0 in ./venv/lib/python3.9/site-packages (from google-cloud-bigquery[bqstorage,pandas]) (1.54.0)\n",
      "Requirement already satisfied: protobuf!=3.20.0,!=3.20.1,!=4.21.0,!=4.21.1,!=4.21.2,!=4.21.3,!=4.21.4,!=4.21.5,<5.0.0dev,>=3.19.5 in ./venv/lib/python3.9/site-packages (from google-cloud-bigquery[bqstorage,pandas]) (4.22.3)\n",
      "Requirement already satisfied: google-cloud-core<3.0.0dev,>=1.6.0 in ./venv/lib/python3.9/site-packages (from google-cloud-bigquery[bqstorage,pandas]) (2.3.2)\n",
      "Requirement already satisfied: requests<3.0.0dev,>=2.21.0 in ./venv/lib/python3.9/site-packages (from google-cloud-bigquery[bqstorage,pandas]) (2.29.0)\n",
      "Requirement already satisfied: packaging>=20.0.0 in ./venv/lib/python3.9/site-packages (from google-cloud-bigquery[bqstorage,pandas]) (23.1)\n",
      "Requirement already satisfied: google-resumable-media<3.0dev,>=0.6.0 in ./venv/lib/python3.9/site-packages (from google-cloud-bigquery[bqstorage,pandas]) (2.5.0)\n",
      "Requirement already satisfied: google-api-core[grpc]!=2.0.*,!=2.1.*,!=2.2.*,!=2.3.0,<3.0.0dev,>=1.31.5 in ./venv/lib/python3.9/site-packages (from google-cloud-bigquery[bqstorage,pandas]) (2.11.0)\n",
      "Requirement already satisfied: google-cloud-bigquery-storage<3.0.0dev,>=2.6.0 in ./venv/lib/python3.9/site-packages (from google-cloud-bigquery[bqstorage,pandas]) (2.19.1)\n",
      "Requirement already satisfied: pyarrow>=3.0.0 in ./venv/lib/python3.9/site-packages (from google-cloud-bigquery[bqstorage,pandas]) (11.0.0)\n",
      "Requirement already satisfied: pandas>=1.1.0 in ./venv/lib/python3.9/site-packages (from google-cloud-bigquery[bqstorage,pandas]) (2.0.1)\n",
      "Requirement already satisfied: db-dtypes<2.0.0dev,>=0.3.0 in ./venv/lib/python3.9/site-packages (from google-cloud-bigquery[bqstorage,pandas]) (1.1.1)\n",
      "Requirement already satisfied: numpy>=1.16.6 in ./venv/lib/python3.9/site-packages (from db-dtypes<2.0.0dev,>=0.3.0->google-cloud-bigquery[bqstorage,pandas]) (1.24.3)\n",
      "Requirement already satisfied: google-auth<3.0dev,>=2.14.1 in ./venv/lib/python3.9/site-packages (from google-api-core[grpc]!=2.0.*,!=2.1.*,!=2.2.*,!=2.3.0,<3.0.0dev,>=1.31.5->google-cloud-bigquery[bqstorage,pandas]) (2.17.3)\n",
      "Requirement already satisfied: googleapis-common-protos<2.0dev,>=1.56.2 in ./venv/lib/python3.9/site-packages (from google-api-core[grpc]!=2.0.*,!=2.1.*,!=2.2.*,!=2.3.0,<3.0.0dev,>=1.31.5->google-cloud-bigquery[bqstorage,pandas]) (1.59.0)\n",
      "Requirement already satisfied: grpcio-status<2.0dev,>=1.33.2 in ./venv/lib/python3.9/site-packages (from google-api-core[grpc]!=2.0.*,!=2.1.*,!=2.2.*,!=2.3.0,<3.0.0dev,>=1.31.5->google-cloud-bigquery[bqstorage,pandas]) (1.54.0)\n",
      "Requirement already satisfied: six>=1.9.0 in ./venv/lib/python3.9/site-packages (from google-auth<3.0dev,>=2.14.1->google-api-core[grpc]!=2.0.*,!=2.1.*,!=2.2.*,!=2.3.0,<3.0.0dev,>=1.31.5->google-cloud-bigquery[bqstorage,pandas]) (1.16.0)\n",
      "Requirement already satisfied: cachetools<6.0,>=2.0.0 in ./venv/lib/python3.9/site-packages (from google-auth<3.0dev,>=2.14.1->google-api-core[grpc]!=2.0.*,!=2.1.*,!=2.2.*,!=2.3.0,<3.0.0dev,>=1.31.5->google-cloud-bigquery[bqstorage,pandas]) (5.3.0)\n",
      "Requirement already satisfied: rsa<5,>=3.1.4 in ./venv/lib/python3.9/site-packages (from google-auth<3.0dev,>=2.14.1->google-api-core[grpc]!=2.0.*,!=2.1.*,!=2.2.*,!=2.3.0,<3.0.0dev,>=1.31.5->google-cloud-bigquery[bqstorage,pandas]) (4.9)\n",
      "Requirement already satisfied: pyasn1-modules>=0.2.1 in ./venv/lib/python3.9/site-packages (from google-auth<3.0dev,>=2.14.1->google-api-core[grpc]!=2.0.*,!=2.1.*,!=2.2.*,!=2.3.0,<3.0.0dev,>=1.31.5->google-cloud-bigquery[bqstorage,pandas]) (0.3.0)\n",
      "Requirement already satisfied: google-crc32c<2.0dev,>=1.0 in ./venv/lib/python3.9/site-packages (from google-resumable-media<3.0dev,>=0.6.0->google-cloud-bigquery[bqstorage,pandas]) (1.5.0)\n",
      "Requirement already satisfied: pytz>=2020.1 in ./venv/lib/python3.9/site-packages (from pandas>=1.1.0->google-cloud-bigquery[bqstorage,pandas]) (2023.3)\n",
      "Requirement already satisfied: tzdata>=2022.1 in ./venv/lib/python3.9/site-packages (from pandas>=1.1.0->google-cloud-bigquery[bqstorage,pandas]) (2023.3)\n",
      "Requirement already satisfied: pyasn1<0.6.0,>=0.4.6 in ./venv/lib/python3.9/site-packages (from pyasn1-modules>=0.2.1->google-auth<3.0dev,>=2.14.1->google-api-core[grpc]!=2.0.*,!=2.1.*,!=2.2.*,!=2.3.0,<3.0.0dev,>=1.31.5->google-cloud-bigquery[bqstorage,pandas]) (0.5.0)\n",
      "Requirement already satisfied: urllib3<1.27,>=1.21.1 in ./venv/lib/python3.9/site-packages (from requests<3.0.0dev,>=2.21.0->google-cloud-bigquery[bqstorage,pandas]) (1.26.15)\n",
      "Requirement already satisfied: idna<4,>=2.5 in ./venv/lib/python3.9/site-packages (from requests<3.0.0dev,>=2.21.0->google-cloud-bigquery[bqstorage,pandas]) (3.4)\n",
      "Requirement already satisfied: charset-normalizer<4,>=2 in ./venv/lib/python3.9/site-packages (from requests<3.0.0dev,>=2.21.0->google-cloud-bigquery[bqstorage,pandas]) (3.1.0)\n",
      "Requirement already satisfied: certifi>=2017.4.17 in ./venv/lib/python3.9/site-packages (from requests<3.0.0dev,>=2.21.0->google-cloud-bigquery[bqstorage,pandas]) (2022.12.7)\n",
      "\u001b[33mWARNING: You are using pip version 21.2.4; however, version 23.1.2 is available.\n",
      "You should consider upgrading via the '/Users/grelinhodediamante/Projects/karhub/venv/bin/python3 -m pip install --upgrade pip' command.\u001b[0m\n"
     ]
    }
   ],
   "source": [
    "import sys\n",
    "!{sys.executable} -m pip install pandas\n",
    "!{sys.executable} -m pip install --upgrade 'google-cloud-bigquery[bqstorage,pandas]'"
   ]
  },
  {
   "cell_type": "code",
   "execution_count": 36,
   "id": "a388f0a9",
   "metadata": {},
   "outputs": [],
   "source": [
    "from google.cloud import bigquery\n",
    "\n",
    "def get_from_bigquery(sql, project_id):\n",
    "    client = bigquery.Client()\n",
    "    df = client.query(sql, project=project_id).to_dataframe()\n",
    "    return df"
   ]
  },
  {
   "cell_type": "code",
   "execution_count": 37,
   "id": "2f195181",
   "metadata": {},
   "outputs": [],
   "source": [
    "veiculos_unicos_sql = \"\"\"\n",
    "    SELECT COUNT(DISTINCT CONCAT(modelo, '_', marca)),  \n",
    "    FROM `galvanic-smoke-385402.cadastro_produto.kh_data_engineer_teste_marcelabarella` \n",
    "    AS `total_itens_unicos`\n",
    "    \"\"\"\n",
    "veiculos_unicos = get_from_bigquery(veiculos_unicos_sql, project_id)"
   ]
  },
  {
   "cell_type": "code",
   "execution_count": 39,
   "id": "b1a6a2ac",
   "metadata": {},
   "outputs": [
    {
     "data": {
      "text/html": [
       "<div>\n",
       "<style scoped>\n",
       "    .dataframe tbody tr th:only-of-type {\n",
       "        vertical-align: middle;\n",
       "    }\n",
       "\n",
       "    .dataframe tbody tr th {\n",
       "        vertical-align: top;\n",
       "    }\n",
       "\n",
       "    .dataframe thead th {\n",
       "        text-align: right;\n",
       "    }\n",
       "</style>\n",
       "<table border=\"1\" class=\"dataframe\">\n",
       "  <thead>\n",
       "    <tr style=\"text-align: right;\">\n",
       "      <th></th>\n",
       "      <th>f0_</th>\n",
       "    </tr>\n",
       "  </thead>\n",
       "  <tbody>\n",
       "    <tr>\n",
       "      <th>0</th>\n",
       "      <td>100</td>\n",
       "    </tr>\n",
       "  </tbody>\n",
       "</table>\n",
       "</div>"
      ],
      "text/plain": [
       "   f0_\n",
       "0  100"
      ]
     },
     "execution_count": 39,
     "metadata": {},
     "output_type": "execute_result"
    }
   ],
   "source": [
    "veiculos_unicos"
   ]
  },
  {
   "cell_type": "code",
   "execution_count": 40,
   "id": "05cc2ea6",
   "metadata": {},
   "outputs": [],
   "source": [
    "produtos_unicos_sql = \"\"\"\n",
    "    SELECT COUNT(DISTINCT CONCAT(codigo, '_', complemento)),  \n",
    "    FROM `galvanic-smoke-385402.cadastro_produto.kh_data_engineer_teste_marcelabarella` \n",
    "    AS `total_itens_unicos`\n",
    "    \"\"\"\n",
    "produtos_unicos = get_from_bigquery(produtos_unicos_sql, project_id)"
   ]
  },
  {
   "cell_type": "code",
   "execution_count": 41,
   "id": "da52bf2b",
   "metadata": {},
   "outputs": [
    {
     "data": {
      "text/html": [
       "<div>\n",
       "<style scoped>\n",
       "    .dataframe tbody tr th:only-of-type {\n",
       "        vertical-align: middle;\n",
       "    }\n",
       "\n",
       "    .dataframe tbody tr th {\n",
       "        vertical-align: top;\n",
       "    }\n",
       "\n",
       "    .dataframe thead th {\n",
       "        text-align: right;\n",
       "    }\n",
       "</style>\n",
       "<table border=\"1\" class=\"dataframe\">\n",
       "  <thead>\n",
       "    <tr style=\"text-align: right;\">\n",
       "      <th></th>\n",
       "      <th>f0_</th>\n",
       "    </tr>\n",
       "  </thead>\n",
       "  <tbody>\n",
       "    <tr>\n",
       "      <th>0</th>\n",
       "      <td>10614</td>\n",
       "    </tr>\n",
       "  </tbody>\n",
       "</table>\n",
       "</div>"
      ],
      "text/plain": [
       "     f0_\n",
       "0  10614"
      ]
     },
     "execution_count": 41,
     "metadata": {},
     "output_type": "execute_result"
    }
   ],
   "source": [
    "produtos_unicos"
   ]
  },
  {
   "cell_type": "code",
   "execution_count": 43,
   "id": "35458d79",
   "metadata": {},
   "outputs": [],
   "source": [
    "produtos_unicos_categoria_sql = \"\"\"\n",
    "    SELECT categoria, COUNT(DISTINCT CONCAT(codigo, '_', complemento)),  \n",
    "    FROM `galvanic-smoke-385402.cadastro_produto.kh_data_engineer_teste_marcelabarella` \n",
    "    AS `total_itens_unicos`\n",
    "    GROUP BY categoria\n",
    "    \"\"\"\n",
    "produtos_unicos_categoria = get_from_bigquery(produtos_unicos_categoria_sql, project_id)"
   ]
  },
  {
   "cell_type": "code",
   "execution_count": 44,
   "id": "5f765683",
   "metadata": {},
   "outputs": [
    {
     "data": {
      "text/html": [
       "<div>\n",
       "<style scoped>\n",
       "    .dataframe tbody tr th:only-of-type {\n",
       "        vertical-align: middle;\n",
       "    }\n",
       "\n",
       "    .dataframe tbody tr th {\n",
       "        vertical-align: top;\n",
       "    }\n",
       "\n",
       "    .dataframe thead th {\n",
       "        text-align: right;\n",
       "    }\n",
       "</style>\n",
       "<table border=\"1\" class=\"dataframe\">\n",
       "  <thead>\n",
       "    <tr style=\"text-align: right;\">\n",
       "      <th></th>\n",
       "      <th>categoria</th>\n",
       "      <th>f0_</th>\n",
       "    </tr>\n",
       "  </thead>\n",
       "  <tbody>\n",
       "    <tr>\n",
       "      <th>0</th>\n",
       "      <td>Transmissão</td>\n",
       "      <td>802</td>\n",
       "    </tr>\n",
       "    <tr>\n",
       "      <th>1</th>\n",
       "      <td>Sonda Lambda</td>\n",
       "      <td>389</td>\n",
       "    </tr>\n",
       "    <tr>\n",
       "      <th>2</th>\n",
       "      <td>Freio</td>\n",
       "      <td>539</td>\n",
       "    </tr>\n",
       "    <tr>\n",
       "      <th>3</th>\n",
       "      <td>Mola Helicoidal</td>\n",
       "      <td>8884</td>\n",
       "    </tr>\n",
       "  </tbody>\n",
       "</table>\n",
       "</div>"
      ],
      "text/plain": [
       "         categoria   f0_\n",
       "0      Transmissão   802\n",
       "1     Sonda Lambda   389\n",
       "2            Freio   539\n",
       "3  Mola Helicoidal  8884"
      ]
     },
     "execution_count": 44,
     "metadata": {},
     "output_type": "execute_result"
    }
   ],
   "source": [
    "produtos_unicos_categoria"
   ]
  },
  {
   "cell_type": "code",
   "execution_count": null,
   "id": "eac52dd5",
   "metadata": {},
   "outputs": [],
   "source": []
  }
 ],
 "metadata": {
  "kernelspec": {
   "display_name": "Python 3 (ipykernel)",
   "language": "python",
   "name": "python3"
  },
  "language_info": {
   "codemirror_mode": {
    "name": "ipython",
    "version": 3
   },
   "file_extension": ".py",
   "mimetype": "text/x-python",
   "name": "python",
   "nbconvert_exporter": "python",
   "pygments_lexer": "ipython3",
   "version": "3.9.6"
  }
 },
 "nbformat": 4,
 "nbformat_minor": 5
}
